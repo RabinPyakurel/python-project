{
 "cells": [
  {
   "cell_type": "code",
   "execution_count": 31,
   "id": "ea100ac4",
   "metadata": {},
   "outputs": [],
   "source": [
    "from selenium import webdriver\n",
    "from selenium.webdriver.chrome.service import Service\n",
    "from selenium.webdriver.common.by import By\n",
    "from selenium.webdriver.support.ui import WebDriverWait\n",
    "from selenium.webdriver.support import expected_conditions as EC\n",
    "from webdriver_manager.chrome import ChromeDriverManager\n",
    "import time\n",
    "import requests\n",
    "import os\n",
    "import hashlib\n",
    "from PIL import Image\n",
    "from io import BytesIO"
   ]
  },
  {
   "cell_type": "code",
   "execution_count": 32,
   "id": "06a59024",
   "metadata": {},
   "outputs": [],
   "source": [
    "def setup_driver(headless=True):\n",
    "    options = webdriver.ChromeOptions()\n",
    "    if headless:\n",
    "        options.add_argument(\"--headless=new\")  # newer headless mode\n",
    "    options.add_argument(\"--disable-gpu\")\n",
    "    options.add_argument(\"--log-level=3\")\n",
    "    options.add_argument(\"--no-sandbox\")\n",
    "    service = Service(ChromeDriverManager().install())\n",
    "    driver = webdriver.Chrome(service=service, options=options)\n",
    "    return driver"
   ]
  },
  {
   "cell_type": "code",
   "execution_count": 33,
   "id": "a6d9ef77",
   "metadata": {},
   "outputs": [],
   "source": [
    "def download_image(url, folder):\n",
    "    try:\n",
    "        image_content = requests.get(url, timeout=10).content\n",
    "        image = Image.open(BytesIO(image_content)).convert(\"RGB\")\n",
    "        file_path = os.path.join(folder, hashlib.sha1(image_content).hexdigest() + \".jpg\")\n",
    "        with open(file_path, 'wb') as f:\n",
    "            image.save(f, \"JPEG\", quality=85)\n",
    "        print(f\"Downloaded: {file_path}\")\n",
    "    except Exception as e:\n",
    "        print(f\"Failed to download {url}: {e}\")\n"
   ]
  },
  {
   "cell_type": "code",
   "execution_count": 34,
   "id": "0e22aec5",
   "metadata": {},
   "outputs": [],
   "source": [
    "def scrape_images(query, limit=10, target_dir='downloads'):\n",
    "    folder = os.path.join(target_dir, '_'.join(query.lower().split()))\n",
    "    os.makedirs(folder, exist_ok=True)\n",
    "\n",
    "    driver = setup_driver(headless=False)\n",
    "    driver.get(f\"https://www.google.com/search?q={query}&tbm=isch\")\n",
    "\n",
    "    try:\n",
    "        WebDriverWait(driver, 10).until(\n",
    "            EC.presence_of_element_located((By.CSS_SELECTOR, \"img.Q4LuWd\"))\n",
    "        )\n",
    "    except:\n",
    "        print(\"No images loaded.\")\n",
    "        driver.quit()\n",
    "        return\n",
    "\n",
    "    driver.execute_script(\"window.scrollTo(0, document.body.scrollHeight);\")\n",
    "    time.sleep(2)\n",
    "\n",
    "    imgs = driver.find_elements(By.CSS_SELECTOR, \"img.Q4LuWd\")\n",
    "    print(f\"🖼️ Found {len(imgs)} image tags\")\n",
    "\n",
    "    count = 0\n",
    "    for img in imgs:\n",
    "        if count >= limit:\n",
    "            break\n",
    "        try:\n",
    "            src = img.get_attribute(\"src\") or img.get_attribute(\"data-src\")\n",
    "            if src and src.startswith(\"http\"):\n",
    "                download_image(src, folder)\n",
    "                count += 1\n",
    "        except Exception as e:\n",
    "            print(\"Skipping image:\", e)\n",
    "\n",
    "    driver.quit()\n",
    "    print(\"✅ Scraping finished.\")"
   ]
  },
  {
   "cell_type": "code",
   "execution_count": 36,
   "id": "39971b5b",
   "metadata": {},
   "outputs": [
    {
     "name": "stdout",
     "output_type": "stream",
     "text": [
      "No images loaded.\n"
     ]
    }
   ],
   "source": [
    "scrape_images(\"neymar\", limit=30)"
   ]
  }
 ],
 "metadata": {
  "kernelspec": {
   "display_name": ".venv",
   "language": "python",
   "name": "python3"
  },
  "language_info": {
   "codemirror_mode": {
    "name": "ipython",
    "version": 3
   },
   "file_extension": ".py",
   "mimetype": "text/x-python",
   "name": "python",
   "nbconvert_exporter": "python",
   "pygments_lexer": "ipython3",
   "version": "3.13.2"
  }
 },
 "nbformat": 4,
 "nbformat_minor": 5
}
